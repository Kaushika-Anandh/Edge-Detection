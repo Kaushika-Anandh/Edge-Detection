{
 "cells": [
  {
   "cell_type": "code",
   "execution_count": 1,
   "metadata": {},
   "outputs": [],
   "source": [
    "# Import the necessary packages\n",
    "import cv2\n",
    "import numpy as np"
   ]
  },
  {
   "cell_type": "code",
   "execution_count": 2,
   "metadata": {},
   "outputs": [
    {
     "data": {
      "text/plain": [
       "(611, 912, 3)"
      ]
     },
     "execution_count": 2,
     "metadata": {},
     "output_type": "execute_result"
    }
   ],
   "source": [
    "# load the image\n",
    "in_img=cv2.imread('picture.PNG')\n",
    "in_img.shape"
   ]
  },
  {
   "cell_type": "code",
   "execution_count": 3,
   "metadata": {},
   "outputs": [],
   "source": [
    "in_img= cv2.resize(in_img, (304,204))\n",
    "# convert to gray scale\n",
    "gray_img = cv2.cvtColor(in_img,cv2.COLOR_BGR2GRAY)\n",
    "noiseless_img = cv2.GaussianBlur(gray_img,(3,3),0)"
   ]
  },
  {
   "cell_type": "code",
   "execution_count": 5,
   "metadata": {},
   "outputs": [],
   "source": [
    "# Sobel edge detector\n",
    "# convolve with proper kernels\n",
    "sobelx = cv2.Sobel(noiseless_img,cv2.CV_64F,1,0,ksize=5)\n",
    "sobely = cv2.Sobel(noiseless_img,cv2.CV_64F,0,1,ksize=5)\n",
    "sobelxy =cv2.Sobel(noiseless_img,cv2.CV_64F,1,1,ksize=5)\n",
    "\n",
    "cv2.imshow('blurred image',noiseless_img)\n",
    "cv2.imshow('sobel x image',sobelx)\n",
    "cv2.imshow('sobel y image',sobely)\n",
    "cv2.imshow('sobel xy image',sobelxy)\n",
    "cv2.waitKey(0)\n",
    "cv2.destroyAllWindows()"
   ]
  },
  {
   "cell_type": "code",
   "execution_count": 6,
   "metadata": {},
   "outputs": [],
   "source": [
    "# Laplacian operator\n",
    "laplacian = cv2.Laplacian(noiseless_img,cv2.CV_64F)\n",
    "\n",
    "cv2.imshow('blurred image',noiseless_img)\n",
    "cv2.imshow('laplacian operator',laplacian)\n",
    "cv2.waitKey(0)\n",
    "cv2.destroyAllWindows()"
   ]
  },
  {
   "cell_type": "code",
   "execution_count": 7,
   "metadata": {},
   "outputs": [],
   "source": [
    "# Canny Edge detector\n",
    "canny = cv2.Canny(noiseless_img, 120, 150)\n",
    "\n",
    "cv2.imshow('blurred image',noiseless_img)\n",
    "cv2.imshow('canny edges image',canny)\n",
    "cv2.waitKey(0)\n",
    "cv2.destroyAllWindows()"
   ]
  },
  {
   "cell_type": "code",
   "execution_count": null,
   "metadata": {},
   "outputs": [],
   "source": []
  }
 ],
 "metadata": {
  "kernelspec": {
   "display_name": "Python 3 (ipykernel)",
   "language": "python",
   "name": "python3"
  },
  "language_info": {
   "codemirror_mode": {
    "name": "ipython",
    "version": 3
   },
   "file_extension": ".py",
   "mimetype": "text/x-python",
   "name": "python",
   "nbconvert_exporter": "python",
   "pygments_lexer": "ipython3",
   "version": "3.9.13"
  }
 },
 "nbformat": 4,
 "nbformat_minor": 4
}
